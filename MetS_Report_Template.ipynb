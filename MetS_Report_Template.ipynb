{
  "nbformat": 4,
  "nbformat_minor": 0,
  "metadata": {
    "colab": {
      "name": "MetS-Report-Template.ipynb",
      "provenance": []
    },
    "kernelspec": {
      "name": "python3",
      "display_name": "Python 3"
    },
    "language_info": {
      "name": "python"
    }
  },
  "cells": [
    {
      "cell_type": "markdown",
      "metadata": {
        "id": "CFHo_JKH3vpr"
      },
      "source": [
        "# **Analysis of Metabolic Syndrome Data**\n",
        "\n",
        "Firstname Lastname\n",
        "\n",
        "Student ID xxxxxxx"
      ]
    },
    {
      "cell_type": "markdown",
      "metadata": {
        "id": "erL0mRWsBkDE"
      },
      "source": [
        "# **Instructions**\n",
        "\n",
        "To get you started, I included the following text and code cells for importing the library and dataset that you will use for analysis.\n",
        "\n",
        "Please apply your knowledge of Pandas to perform Exploratory Data Analysis where you explore the data, examine the DataFrames, filter DataFrame according to conditions/thresholds calculate summary statistics and create plots.\n",
        "\n"
      ]
    },
    {
      "cell_type": "markdown",
      "metadata": {
        "id": "sDwelBi351VK"
      },
      "source": [
        "# **Import libraries**"
      ]
    },
    {
      "cell_type": "code",
      "metadata": {
        "id": "7LFOqF5153hg"
      },
      "source": [
        "import pandas as pd\n",
        "\n",
        "# This is a comment, feel free to also document code in-text by using comments such as this.\n",
        "# Feel free to add additional libraries that you want to use here e.g. numpy"
      ],
      "execution_count": 2,
      "outputs": []
    },
    {
      "cell_type": "markdown",
      "metadata": {
        "id": "KCH0fExG4AYk"
      },
      "source": [
        "# **Load dataset**\n",
        "\n",
        "The ***metabolic syndrome dataset*** (*metabolic_syndrome_synthetic_data.csv*) is retrieved from the **GitHub** source and the content is assigned to the `df` variable.\n",
        "\n",
        "Dataset URL: https://raw.githubusercontent.com/dataprofessor/data/master/metabolic_syndrome_synthetic_data.csv"
      ]
    },
    {
      "cell_type": "code",
      "metadata": {
        "colab": {
          "base_uri": "https://localhost:8080/",
          "height": 417
        },
        "id": "XOea8qYt3s4u",
        "outputId": "9636565c-a9d2-4eb6-fa9e-313a9a7fd8be"
      },
      "source": [
        "df = pd.read_csv('https://raw.githubusercontent.com/dataprofessor/data/master/metabolic_syndrome_synthetic_data.csv')\n",
        "df"
      ],
      "execution_count": 3,
      "outputs": [
        {
          "output_type": "execute_result",
          "data": {
            "text/html": [
              "<div>\n",
              "<style scoped>\n",
              "    .dataframe tbody tr th:only-of-type {\n",
              "        vertical-align: middle;\n",
              "    }\n",
              "\n",
              "    .dataframe tbody tr th {\n",
              "        vertical-align: top;\n",
              "    }\n",
              "\n",
              "    .dataframe thead th {\n",
              "        text-align: right;\n",
              "    }\n",
              "</style>\n",
              "<table border=\"1\" class=\"dataframe\">\n",
              "  <thead>\n",
              "    <tr style=\"text-align: right;\">\n",
              "      <th></th>\n",
              "      <th>WC</th>\n",
              "      <th>TG</th>\n",
              "      <th>HDLC</th>\n",
              "      <th>SBP</th>\n",
              "      <th>DBP</th>\n",
              "      <th>FPG</th>\n",
              "      <th>sex</th>\n",
              "    </tr>\n",
              "  </thead>\n",
              "  <tbody>\n",
              "    <tr>\n",
              "      <th>0</th>\n",
              "      <td>67.00</td>\n",
              "      <td>61.34</td>\n",
              "      <td>83.21</td>\n",
              "      <td>65.23</td>\n",
              "      <td>60.10</td>\n",
              "      <td>75.73</td>\n",
              "      <td>female</td>\n",
              "    </tr>\n",
              "    <tr>\n",
              "      <th>1</th>\n",
              "      <td>61.82</td>\n",
              "      <td>60.99</td>\n",
              "      <td>78.19</td>\n",
              "      <td>97.81</td>\n",
              "      <td>93.37</td>\n",
              "      <td>91.09</td>\n",
              "      <td>female</td>\n",
              "    </tr>\n",
              "    <tr>\n",
              "      <th>2</th>\n",
              "      <td>73.40</td>\n",
              "      <td>65.14</td>\n",
              "      <td>73.20</td>\n",
              "      <td>53.27</td>\n",
              "      <td>69.04</td>\n",
              "      <td>70.73</td>\n",
              "      <td>female</td>\n",
              "    </tr>\n",
              "    <tr>\n",
              "      <th>3</th>\n",
              "      <td>71.25</td>\n",
              "      <td>146.66</td>\n",
              "      <td>84.05</td>\n",
              "      <td>91.50</td>\n",
              "      <td>56.61</td>\n",
              "      <td>79.78</td>\n",
              "      <td>female</td>\n",
              "    </tr>\n",
              "    <tr>\n",
              "      <th>4</th>\n",
              "      <td>112.53</td>\n",
              "      <td>228.97</td>\n",
              "      <td>16.73</td>\n",
              "      <td>5.96</td>\n",
              "      <td>2.24</td>\n",
              "      <td>165.43</td>\n",
              "      <td>male</td>\n",
              "    </tr>\n",
              "    <tr>\n",
              "      <th>...</th>\n",
              "      <td>...</td>\n",
              "      <td>...</td>\n",
              "      <td>...</td>\n",
              "      <td>...</td>\n",
              "      <td>...</td>\n",
              "      <td>...</td>\n",
              "      <td>...</td>\n",
              "    </tr>\n",
              "    <tr>\n",
              "      <th>995</th>\n",
              "      <td>63.35</td>\n",
              "      <td>122.10</td>\n",
              "      <td>80.09</td>\n",
              "      <td>59.57</td>\n",
              "      <td>63.71</td>\n",
              "      <td>72.61</td>\n",
              "      <td>male</td>\n",
              "    </tr>\n",
              "    <tr>\n",
              "      <th>996</th>\n",
              "      <td>114.51</td>\n",
              "      <td>391.68</td>\n",
              "      <td>12.82</td>\n",
              "      <td>7.24</td>\n",
              "      <td>26.92</td>\n",
              "      <td>184.00</td>\n",
              "      <td>male</td>\n",
              "    </tr>\n",
              "    <tr>\n",
              "      <th>997</th>\n",
              "      <td>114.90</td>\n",
              "      <td>604.84</td>\n",
              "      <td>14.75</td>\n",
              "      <td>42.93</td>\n",
              "      <td>26.26</td>\n",
              "      <td>104.12</td>\n",
              "      <td>female</td>\n",
              "    </tr>\n",
              "    <tr>\n",
              "      <th>998</th>\n",
              "      <td>91.51</td>\n",
              "      <td>554.35</td>\n",
              "      <td>19.54</td>\n",
              "      <td>17.50</td>\n",
              "      <td>1.69</td>\n",
              "      <td>183.55</td>\n",
              "      <td>male</td>\n",
              "    </tr>\n",
              "    <tr>\n",
              "      <th>999</th>\n",
              "      <td>80.44</td>\n",
              "      <td>85.36</td>\n",
              "      <td>43.52</td>\n",
              "      <td>94.85</td>\n",
              "      <td>49.45</td>\n",
              "      <td>70.12</td>\n",
              "      <td>male</td>\n",
              "    </tr>\n",
              "  </tbody>\n",
              "</table>\n",
              "<p>1000 rows × 7 columns</p>\n",
              "</div>"
            ],
            "text/plain": [
              "         WC      TG   HDLC    SBP    DBP     FPG     sex\n",
              "0     67.00   61.34  83.21  65.23  60.10   75.73  female\n",
              "1     61.82   60.99  78.19  97.81  93.37   91.09  female\n",
              "2     73.40   65.14  73.20  53.27  69.04   70.73  female\n",
              "3     71.25  146.66  84.05  91.50  56.61   79.78  female\n",
              "4    112.53  228.97  16.73   5.96   2.24  165.43    male\n",
              "..      ...     ...    ...    ...    ...     ...     ...\n",
              "995   63.35  122.10  80.09  59.57  63.71   72.61    male\n",
              "996  114.51  391.68  12.82   7.24  26.92  184.00    male\n",
              "997  114.90  604.84  14.75  42.93  26.26  104.12  female\n",
              "998   91.51  554.35  19.54  17.50   1.69  183.55    male\n",
              "999   80.44   85.36  43.52  94.85  49.45   70.12    male\n",
              "\n",
              "[1000 rows x 7 columns]"
            ]
          },
          "metadata": {
            "tags": []
          },
          "execution_count": 3
        }
      ]
    },
    {
      "cell_type": "markdown",
      "metadata": {
        "id": "ACMO7wESCjXU"
      },
      "source": [
        "---"
      ]
    },
    {
      "cell_type": "markdown",
      "metadata": {
        "id": "Q65bWyejCAT1"
      },
      "source": [
        "The following are examples that you can use for Text formatting ideas."
      ]
    },
    {
      "cell_type": "markdown",
      "metadata": {
        "id": "_CSxDN-S_xZe"
      },
      "source": [
        "# **1. Section**\n",
        "\n",
        "Explanation text to describe what this section is doing."
      ]
    },
    {
      "cell_type": "markdown",
      "metadata": {
        "id": "zprAygrP_6md"
      },
      "source": [
        "### **1.1. Sub-section**\n",
        "\n",
        "Explanation text to describe what this sub-section is doing."
      ]
    },
    {
      "cell_type": "markdown",
      "metadata": {
        "id": "drbVEI8tAD2V"
      },
      "source": [
        "Format text by using **bold**, *italic* as well as ***both bold and italic at the same time***.\n",
        "\n",
        "Function names and variable names can be highlighted by using the tick symbol (`) before and after the text of interest.\n",
        "\n",
        "For example, `pd.read_csv()`."
      ]
    },
    {
      "cell_type": "code",
      "metadata": {
        "id": "iri5MuMbAUAY"
      },
      "source": [
        ""
      ],
      "execution_count": null,
      "outputs": []
    },
    {
      "cell_type": "code",
      "metadata": {
        "id": "5cXppQFI_wdH"
      },
      "source": [
        ""
      ],
      "execution_count": 3,
      "outputs": []
    },
    {
      "cell_type": "code",
      "metadata": {
        "id": "rd-lsi0G_YAC"
      },
      "source": [
        ""
      ],
      "execution_count": null,
      "outputs": []
    }
  ]
}